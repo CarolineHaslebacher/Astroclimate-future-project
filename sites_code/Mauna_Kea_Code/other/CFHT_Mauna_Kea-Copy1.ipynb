{
 "cells": [
  {
   "cell_type": "code",
   "execution_count": 2,
   "metadata": {},
   "outputs": [],
   "source": [
    "%matplotlib inline\n",
    "import matplotlib.pyplot as plt\n",
    "import numpy as np\n",
    "import pandas as pd\n",
    "from astropy.table import Table, vstack, hstack\n",
    "from astropy.utils.data import download_file\n",
    "from astropy.time import Time\n",
    "from astropy.timeseries import TimeSeries\n",
    "import sunpy.timeseries as ts  \n",
    "import netCDF4\n",
    "import xarray as xr\n",
    "\n",
    "from bs4 import BeautifulSoup\n",
    "from urllib.request import HTTPError\n",
    "\n",
    "\n",
    "base_url = \"http://mkwc.ifa.hawaii.edu/archive/wx/cfht/\""
   ]
  },
  {
   "cell_type": "code",
   "execution_count": 4,
   "metadata": {
    "scrolled": true
   },
   "outputs": [
    {
     "name": "stdout",
     "output_type": "stream",
     "text": [
      "Downloading year: 1991\n",
      "Downloading year: 1992\n",
      "Downloading year: 1993\n",
      "Downloading year: 1994\n",
      "Downloading year: 1995\n",
      "Downloading year: 1996\n",
      "Downloading year: 1997\n",
      "Downloading year: 1998\n",
      "Downloading year: 1999\n",
      "Downloading year: 2000\n",
      "Downloading year: 2001\n",
      "Downloading year: 2002\n",
      "Downloading year: 2003\n",
      "Downloading year: 2004\n",
      "Downloading year: 2005\n",
      "Downloading year: 2006\n",
      "Downloading year: 2007\n",
      "Downloading year: 2008\n",
      "Downloading year: 2009\n",
      "Downloading year: 2010\n",
      "Downloading year: 2011\n",
      "Downloading year: 2012\n",
      "Downloading year: 2013\n",
      "Downloading year: 2014\n",
      "Downloading year: 2015\n",
      "Downloading year: 2016\n",
      "Downloading year: 2017\n",
      "Downloading year: 2018\n",
      "Downloading year: 2019\n",
      "Downloading year: 2020\n"
     ]
    }
   ],
   "source": [
    "# header from base_url\n",
    "tables = []\n",
    "\n",
    "for i in range(1991, 2021):#1991, 2021\n",
    "    # the year 2003 and 2009 skipp it now\n",
    "    #if i == 2003:\n",
    "    #    continue\n",
    "    print('Downloading year:', i)\n",
    "    # raw_table = open(download_file(base_url + 'cfht-wx.{0}.dat'.format(i), cache=True)).read()\n",
    "    \n",
    "        #in 2009, there is a line that looks like \"12 233 3.49 16 617.9\"\n",
    "    if i == 2009:\n",
    "        with open(download_file(base_url + 'cfht-wx.{0}.dat'.format(i), cache=False), 'r') as file:\n",
    "            filename = \"cfht_2009.txt\"\n",
    "            file.seek(0)\n",
    "            lines = file.readlines()\n",
    "            with open(filename, 'w') as file1:\n",
    "                for i, line in enumerate(lines):\n",
    "                    if i != 75411:\n",
    "                        file1.write(line)\n",
    "                        #print('{0}', line)\n",
    "                file1.truncate()\n",
    "            with open(filename, 'r') as file1:\n",
    "                raw_table = file1.read()\n",
    "\n",
    "    #in 2017, in line 497145, an 11. column appears, filled with the value 0.00\n",
    "    elif i == 2017:\n",
    "        with open(download_file(base_url + 'cfht-wx.{0}.dat'.format(i), cache=False), 'r') as file:\n",
    "            filename = \"cfht_2017.txt\"\n",
    "            file.seek(0)\n",
    "            lines = file.readlines()\n",
    "            with open(filename, 'w') as file2:\n",
    "                for i, line in enumerate(lines):\n",
    "                    if i < 497145:\n",
    "                        file2.write(line)\n",
    "                    else:\n",
    "                        new_string = lines[i]\n",
    "                        new_string_cut = new_string[0:(len(new_string)-5)]\n",
    "                        str_assembled = (new_string_cut + '\\n')\n",
    "                        #print(str_assembled)\n",
    "                        file2.write(str_assembled)\n",
    "                with open(filename, 'r') as file2:\n",
    "                    raw_table = file2.read()\n",
    "    else:\n",
    "        with open(download_file(base_url + 'cfht-wx.{0}.dat'.format(i), cache=True), 'r') as file:\n",
    "            raw_table = file.read()\n",
    "    \n",
    "    #table = Table(names=('year', 'month', 'day', 'hour', 'min', 'wind_speed(kts)', 'wind_direction(dec)', 'temperature(C)', \n",
    "    #  'relative_humidity(%)', 'pressure(mb)'), dtype=('int64', 'int64','int64', 'int64','int64','int64','float64','float64', 'float64', 'float64'))        \n",
    "\n",
    "    table = Table.read(raw_table, format='ascii.no_header', delimiter=' ')\n",
    "\n",
    "        \n",
    "            \n",
    "        \n",
    "    #some Tables have column 10, which is the pressure\n",
    "    # if 'col10' in table.colnames and not table['col10'].dtype in (float, 'float64'):\n",
    "    #    column = pd.Series(table['col10'].data)\n",
    "    #    mask = column.str.contains(' ') | (column == 'N/A') | (column == '?')\n",
    "    #    column[mask] = np.nan\n",
    "    #    table['col10'] = column\n",
    "    #    table['col10'] = table['col10'].astype(float)\n",
    "        \n",
    "    tables.append(table)"
   ]
  },
  {
   "cell_type": "code",
   "execution_count": 5,
   "metadata": {
    "collapsed": true
   },
   "outputs": [
    {
     "data": {
      "text/html": [
       "<i>Table length=524560</i>\n",
       "<table id=\"table140093144876816\" class=\"table-striped table-bordered table-condensed\">\n",
       "<thead><tr><th>col1</th><th>col2</th><th>col3</th><th>col4</th><th>col5</th><th>col6</th><th>col7</th><th>col8</th><th>col9</th><th>col10</th></tr></thead>\n",
       "<thead><tr><th>int64</th><th>int64</th><th>int64</th><th>int64</th><th>int64</th><th>int64</th><th>float64</th><th>float64</th><th>int64</th><th>float64</th></tr></thead>\n",
       "<tr><td>2018</td><td>1</td><td>1</td><td>0</td><td>0</td><td>27</td><td>23.0</td><td>-0.57</td><td>45</td><td>617.7</td></tr>\n",
       "<tr><td>2018</td><td>1</td><td>1</td><td>0</td><td>1</td><td>27</td><td>27.0</td><td>-0.59</td><td>45</td><td>617.7</td></tr>\n",
       "<tr><td>2018</td><td>1</td><td>1</td><td>0</td><td>2</td><td>26</td><td>24.0</td><td>-0.58</td><td>45</td><td>617.7</td></tr>\n",
       "<tr><td>2018</td><td>1</td><td>1</td><td>0</td><td>3</td><td>27</td><td>21.0</td><td>-0.6</td><td>45</td><td>617.7</td></tr>\n",
       "<tr><td>2018</td><td>1</td><td>1</td><td>0</td><td>4</td><td>26</td><td>22.0</td><td>-0.6</td><td>45</td><td>617.7</td></tr>\n",
       "<tr><td>2018</td><td>1</td><td>1</td><td>0</td><td>5</td><td>26</td><td>22.0</td><td>-0.6</td><td>45</td><td>617.7</td></tr>\n",
       "<tr><td>2018</td><td>1</td><td>1</td><td>0</td><td>6</td><td>27</td><td>21.0</td><td>-0.6</td><td>45</td><td>617.7</td></tr>\n",
       "<tr><td>2018</td><td>1</td><td>1</td><td>0</td><td>7</td><td>27</td><td>25.0</td><td>-0.61</td><td>45</td><td>617.7</td></tr>\n",
       "<tr><td>2018</td><td>1</td><td>1</td><td>0</td><td>8</td><td>25</td><td>26.0</td><td>-0.63</td><td>45</td><td>617.7</td></tr>\n",
       "<tr><td>2018</td><td>1</td><td>1</td><td>0</td><td>9</td><td>26</td><td>21.0</td><td>-0.63</td><td>45</td><td>617.7</td></tr>\n",
       "<tr><td>...</td><td>...</td><td>...</td><td>...</td><td>...</td><td>...</td><td>...</td><td>...</td><td>...</td><td>...</td></tr>\n",
       "<tr><td>2018</td><td>12</td><td>31</td><td>23</td><td>50</td><td>31</td><td>66.0</td><td>-0.28</td><td>9</td><td>617.1</td></tr>\n",
       "<tr><td>2018</td><td>12</td><td>31</td><td>23</td><td>51</td><td>32</td><td>74.0</td><td>-0.25</td><td>9</td><td>617.2</td></tr>\n",
       "<tr><td>2018</td><td>12</td><td>31</td><td>23</td><td>52</td><td>32</td><td>67.0</td><td>-0.22</td><td>10</td><td>617.1</td></tr>\n",
       "<tr><td>2018</td><td>12</td><td>31</td><td>23</td><td>53</td><td>31</td><td>71.0</td><td>-0.17</td><td>11</td><td>617.0</td></tr>\n",
       "<tr><td>2018</td><td>12</td><td>31</td><td>23</td><td>54</td><td>29</td><td>59.0</td><td>-0.14</td><td>10</td><td>617.1</td></tr>\n",
       "<tr><td>2018</td><td>12</td><td>31</td><td>23</td><td>55</td><td>31</td><td>62.0</td><td>-0.1</td><td>11</td><td>617.1</td></tr>\n",
       "<tr><td>2018</td><td>12</td><td>31</td><td>23</td><td>56</td><td>29</td><td>58.0</td><td>-0.06</td><td>11</td><td>617.2</td></tr>\n",
       "<tr><td>2018</td><td>12</td><td>31</td><td>23</td><td>57</td><td>28</td><td>62.0</td><td>-0.03</td><td>12</td><td>617.2</td></tr>\n",
       "<tr><td>2018</td><td>12</td><td>31</td><td>23</td><td>58</td><td>30</td><td>48.0</td><td>-0.01</td><td>12</td><td>617.2</td></tr>\n",
       "<tr><td>2018</td><td>12</td><td>31</td><td>23</td><td>59</td><td>28</td><td>64.0</td><td>0.0</td><td>11</td><td>617.2</td></tr>\n",
       "</table>"
      ],
      "text/plain": [
       "<Table length=524560>\n",
       " col1  col2  col3  col4  col5  col6   col7    col8   col9  col10 \n",
       "int64 int64 int64 int64 int64 int64 float64 float64 int64 float64\n",
       "----- ----- ----- ----- ----- ----- ------- ------- ----- -------\n",
       " 2018     1     1     0     0    27    23.0   -0.57    45   617.7\n",
       " 2018     1     1     0     1    27    27.0   -0.59    45   617.7\n",
       " 2018     1     1     0     2    26    24.0   -0.58    45   617.7\n",
       " 2018     1     1     0     3    27    21.0    -0.6    45   617.7\n",
       " 2018     1     1     0     4    26    22.0    -0.6    45   617.7\n",
       " 2018     1     1     0     5    26    22.0    -0.6    45   617.7\n",
       " 2018     1     1     0     6    27    21.0    -0.6    45   617.7\n",
       " 2018     1     1     0     7    27    25.0   -0.61    45   617.7\n",
       " 2018     1     1     0     8    25    26.0   -0.63    45   617.7\n",
       " 2018     1     1     0     9    26    21.0   -0.63    45   617.7\n",
       "  ...   ...   ...   ...   ...   ...     ...     ...   ...     ...\n",
       " 2018    12    31    23    50    31    66.0   -0.28     9   617.1\n",
       " 2018    12    31    23    51    32    74.0   -0.25     9   617.2\n",
       " 2018    12    31    23    52    32    67.0   -0.22    10   617.1\n",
       " 2018    12    31    23    53    31    71.0   -0.17    11   617.0\n",
       " 2018    12    31    23    54    29    59.0   -0.14    10   617.1\n",
       " 2018    12    31    23    55    31    62.0    -0.1    11   617.1\n",
       " 2018    12    31    23    56    29    58.0   -0.06    11   617.2\n",
       " 2018    12    31    23    57    28    62.0   -0.03    12   617.2\n",
       " 2018    12    31    23    58    30    48.0   -0.01    12   617.2\n",
       " 2018    12    31    23    59    28    64.0     0.0    11   617.2"
      ]
     },
     "execution_count": 5,
     "metadata": {},
     "output_type": "execute_result"
    }
   ],
   "source": [
    "#to remove the column 11 in year 2018\n",
    "tables[27].remove_column('col11')\n",
    "tables[27]"
   ]
  },
  {
   "cell_type": "code",
   "execution_count": 8,
   "metadata": {},
   "outputs": [],
   "source": [
    "columns = ['col1', 'col2', 'col3', 'col4', 'col5', 'col6', 'col7', 'col8','col9']\n",
    "labels = ['year', 'month', 'day', 'hour', 'min', 'wind_speed(kts)', 'wind_direction(dec)', 'temperature(C)', \n",
    "          'relative_humidity(%)']\n",
    "\n",
    "for k in range(0, 30):\n",
    "    for col_ind, label in zip(columns, labels):\n",
    "        if label not in tables[k].colnames:\n",
    "            tables[k].rename_column(col_ind, label)\n",
    "    if 'col10' in tables[k].colnames: #some Tables have column 10, which is the pressure\n",
    "        tables[k].rename_column('col10', 'pressure (mb)')\n"
   ]
  },
  {
   "cell_type": "code",
   "execution_count": 12,
   "metadata": {},
   "outputs": [],
   "source": [
    "# takes around 10 minutes on my Sony Vaio (depends..)\n",
    "\n",
    "for table in tables: \n",
    "    try:\n",
    "        if 'year' in table.colnames: \n",
    "            time_strings = [\"{0}-{1}-{2}T{3}:{4}:00\"\n",
    "                            .format(row['year'], row['month'], row['day'], \n",
    "                                    row['hour'], row['min']).replace(',', '').replace('202013', '2013') #there are commas sometimes\n",
    "                            for row in table]\n",
    "            times = Time(time_strings, format='isot') #use isot to simplify inreading of textfile\n",
    "            table['times'] = times\n",
    "        \n",
    "    except ValueError:\n",
    "        pass\n"
   ]
  },
  {
   "cell_type": "code",
   "execution_count": 41,
   "metadata": {},
   "outputs": [],
   "source": [
    "#takes around 60 min!!\n",
    "#save tables to a text file, which can be read instead of running all the code above\n",
    "\n",
    "from tabulate import tabulate\n",
    "\n",
    "filename = 'CFHT_1991_to_2018_v2.txt'\n",
    "\n",
    "with open(filename, 'w') as file:\n",
    "    for i, table in enumerate(tables):\n",
    "        file.write(tabulate(tables[i]))\n"
   ]
  },
  {
   "cell_type": "code",
   "execution_count": 62,
   "metadata": {},
   "outputs": [],
   "source": [
    "#function to convert a parameter (e.g. PRESSURE) to sunpy timeseries and plot data\n",
    "\n",
    "#def convert__to_sunpy_ts('downsampled_Pressure_hourly.csv', '1991_2018_CFHT_Pressure_hourly_mean.pdf',\n",
    "#    'pressure (mb)', '1h')\n",
    "\n",
    "def convert_to_sunpy_ts(filename, parameter, time_downsample):\n",
    "\n",
    "    timeseries = []\n",
    "    downsampled = []\n",
    "\n",
    "    if parameter == 'pressure (mb)':\n",
    "        for i, table in enumerate(tables):\n",
    "            if parameter in table.colnames: \n",
    "                print(i)\n",
    "                timeseries.append(ts.TimeSeries(hstack([table['times'], table[parameter]])))\n",
    "                downsampled.append(timeseries[i-9].data.resample(time_downsample).mean()) #1m for monthly mean, 1d for daily mean, 1h for hourly mean\n",
    "        df = pd.concat(downsampled)\n",
    "        \n",
    "    elif parameter == 'relative_humidity(%)':\n",
    "        for i, table in enumerate(tables):\n",
    "            # filter values smaller than 0 and greater than 100\n",
    "            mask = (table['relative_humidity(%)'] < 100) | (table['relative_humidity(%)'] > 0)\n",
    "            table[mask]\n",
    "            timeseries.append(ts.TimeSeries(hstack([table['times'], table['relative_humidity(%)']])))\n",
    "            downsampled.append(timeseries[i].data.resample(time_of_mean).mean())\n",
    "    # save to csv\n",
    "    df.to_csv(filename)\n",
    "\n",
    "    return df\n"
   ]
  },
  {
   "cell_type": "code",
   "execution_count": 39,
   "metadata": {},
   "outputs": [],
   "source": [
    "# fig_name = '1991_2018_CFHT_Pressure_hourly_mean.pdf'\n",
    "# y_axis = \"pressure(mb)\"\n",
    "#ylim = (0, 100)\n",
    "\n",
    "#, bool y_lim, ylim\n",
    "def plot_timeseries(df, figname, y_title, plot_title = '', y_lim = False):\n",
    "\n",
    "    plt.plot(df, 'bo', markersize = '2')\n",
    "    plt.title(plot_title)\n",
    "    if y_lim == True:\n",
    "        plt.ylim(y_lim)\n",
    "\n",
    "    #change y label and fig name!!\n",
    "\n",
    "    plt.ylabel(y_title)\n",
    "\n",
    "    plt.xlabel(\"Time (s)\")\n",
    "    plt.savefig(fig_name)\n",
    "\n"
   ]
  },
  {
   "cell_type": "code",
   "execution_count": 40,
   "metadata": {},
   "outputs": [
    {
     "data": {
      "image/png": "[encoded data removed]",
      "text/plain": [
       "<Figure size 432x288 with 1 Axes>"
      ]
     },
     "metadata": {
      "needs_background": "light"
     },
     "output_type": "display_data"
    }
   ],
   "source": [
    "df_test = convert_to_sunpy_ts('downsampled_Pressure_hourly.csv','pressure (mb)', '1h')\n",
    "plot_timeseries(df_test, '1991_2018_CFHT_Pressure_hourly_mean.pdf', 'pressure (mb)')"
   ]
  },
  {
   "cell_type": "code",
   "execution_count": 43,
   "metadata": {},
   "outputs": [],
   "source": [
    "#open NETCDF file\n",
    "#ds_RH_test = xr.open_dataset('/home/caroline/hulk/Astroclimate/cds_data_ERA5/RH/Era5_test_RH_2009_2018.nc')\n",
    "ds_RH = xr.open_dataset('/home/caroline/hulk/Astroclimate/cds_data_ERA5/RH/Era5_2009to2018_RH_600hPa.nc')\n",
    "\n",
    "# define grid location (lon/lat) of Mauna Kea\n",
    "ds_MaunaKea_RH = ds_RH.sel(longitude=204.53,latitude= 19.83,method='nearest')\n"
   ]
  },
  {
   "cell_type": "code",
   "execution_count": 49,
   "metadata": {},
   "outputs": [
    {
     "data": {
      "text/html": [
       "<pre>&lt;xarray.DataArray &#x27;time&#x27; ()&gt;\n",
       "array(&#x27;2009-01-01T03:00:00.000000000&#x27;, dtype=&#x27;datetime64[ns]&#x27;)\n",
       "Coordinates:\n",
       "    longitude  float32 204.5\n",
       "    latitude   float32 19.75\n",
       "    time       datetime64[ns] 2009-01-01T03:00:00\n",
       "Attributes:\n",
       "    long_name:  time</pre>"
      ],
      "text/plain": [
       "<xarray.DataArray 'time' ()>\n",
       "array('2009-01-01T03:00:00.000000000', dtype='datetime64[ns]')\n",
       "Coordinates:\n",
       "    longitude  float32 204.5\n",
       "    latitude   float32 19.75\n",
       "    time       datetime64[ns] 2009-01-01T03:00:00\n",
       "Attributes:\n",
       "    long_name:  time"
      ]
     },
     "execution_count": 49,
     "metadata": {},
     "output_type": "execute_result"
    }
   ],
   "source": [
    "ds_MaunaKea_RH.time[3]"
   ]
  },
  {
   "cell_type": "code",
   "execution_count": 54,
   "metadata": {},
   "outputs": [],
   "source": [
    "# resample ERA5 data \n",
    "\n",
    "# hourly, do nothing\n",
    "#ds_MaunaKea_RH_resampled_hourly = ds_MaunaKea_RH\n",
    "\n",
    "ds_MaunaKea_RH_resampled_daily = ds_MaunaKea_RH.resample(time = '1d').mean()\n",
    "\n",
    "# ds_MaunaKea_RH_resampled_monthly = ds_MaunaKea_RH.resample(time = '1m').mean()\n",
    "\n",
    "# convert RELATIVE HUMIDITY to sunpy timeseries\n",
    "df_RH = convert_to_sunpy_ts('downsampled_Pressure_hourly.csv','relative humidity(%)', '1d')"
   ]
  },
  {
   "cell_type": "code",
   "execution_count": 58,
   "metadata": {
    "scrolled": true
   },
   "outputs": [
    {
     "data": {
      "text/html": [
       "<pre>&lt;xarray.DataArray &#x27;time&#x27; ()&gt;\n",
       "array(&#x27;2009-01-03T00:00:00.000000000&#x27;, dtype=&#x27;datetime64[ns]&#x27;)\n",
       "Coordinates:\n",
       "    time       datetime64[ns] 2009-01-03\n",
       "    latitude   float32 19.75\n",
       "    longitude  float32 204.5</pre>"
      ],
      "text/plain": [
       "<xarray.DataArray 'time' ()>\n",
       "array('2009-01-03T00:00:00.000000000', dtype='datetime64[ns]')\n",
       "Coordinates:\n",
       "    time       datetime64[ns] 2009-01-03\n",
       "    latitude   float32 19.75\n",
       "    longitude  float32 204.5"
      ]
     },
     "execution_count": 58,
     "metadata": {},
     "output_type": "execute_result"
    }
   ],
   "source": [
    "ds_MaunaKea_RH_resampled_daily.time[2]"
   ]
  },
  {
   "cell_type": "code",
   "execution_count": 61,
   "metadata": {},
   "outputs": [
    {
     "ename": "UnboundLocalError",
     "evalue": "local variable 'df' referenced before assignment",
     "output_type": "error",
     "traceback": [
      "\u001b[0;31m---------------------------------------------------------------------------\u001b[0m",
      "\u001b[0;31mUnboundLocalError\u001b[0m                         Traceback (most recent call last)",
      "\u001b[0;32m<ipython-input-61-77b520b5d7bf>\u001b[0m in \u001b[0;36m<module>\u001b[0;34m\u001b[0m\n\u001b[0;32m----> 1\u001b[0;31m \u001b[0mRH\u001b[0m \u001b[0;34m=\u001b[0m \u001b[0mconvert_to_sunpy_ts\u001b[0m\u001b[0;34m(\u001b[0m\u001b[0;34m'downsampled_RH_CFHT_hourly.csv'\u001b[0m\u001b[0;34m,\u001b[0m\u001b[0;34m'relative humidity(%)'\u001b[0m\u001b[0;34m,\u001b[0m \u001b[0;34m'1d'\u001b[0m\u001b[0;34m)\u001b[0m\u001b[0;34m\u001b[0m\u001b[0;34m\u001b[0m\u001b[0m\n\u001b[0m\u001b[1;32m      2\u001b[0m \u001b[0;34m\u001b[0m\u001b[0m\n",
      "\u001b[0;32m<ipython-input-25-1cc6c43a087b>\u001b[0m in \u001b[0;36mconvert_to_sunpy_ts\u001b[0;34m(fig_name, parameter, time_downsample)\u001b[0m\n\u001b[1;32m     26\u001b[0m \u001b[0;34m\u001b[0m\u001b[0m\n\u001b[1;32m     27\u001b[0m \u001b[0;34m\u001b[0m\u001b[0m\n\u001b[0;32m---> 28\u001b[0;31m     \u001b[0;32mreturn\u001b[0m \u001b[0mdf\u001b[0m\u001b[0;34m\u001b[0m\u001b[0;34m\u001b[0m\u001b[0m\n\u001b[0m",
      "\u001b[0;31mUnboundLocalError\u001b[0m: local variable 'df' referenced before assignment"
     ]
    }
   ],
   "source": [
    "df_RH = convert_to_sunpy_ts('downsampled_RH_CFHT_hourly.csv','relative humidity(%)', '1d')\n",
    "\n"
   ]
  },
  {
   "cell_type": "code",
   "execution_count": 85,
   "metadata": {},
   "outputs": [],
   "source": [
    "#not needed anymore\n",
    "\n",
    "#convert RELATIVE HUMIDITY to sunpy timeseries\n",
    "\n",
    "import sunpy.timeseries as ts  \n",
    "\n",
    "#change parameters for every file\n",
    "filename = 'downsampled_RH_daily_mean.csv'\n",
    "time_of_mean = '1d'\n",
    "\n",
    "timeseries = []\n",
    "downsampled = []\n",
    "\n",
    "for i, table in enumerate(tables):#tables_to2000\n",
    "    # filter values smaller than 0 and greater than 100\n",
    "    mask = (table['relative_humidity(%)'] < 100) | (table['relative_humidity(%)'] > 0)\n",
    "    table[mask]\n",
    "    timeseries.append(ts.TimeSeries(hstack([table['times'], table['relative_humidity(%)']])))\n",
    "    downsampled.append(timeseries[i].data.resample(time_of_mean).mean()) #1m for monthly mean, 1d for daily mean, 1h for hourly mean\n",
    "\n",
    "\n",
    "df = pd.concat(downsampled)\n",
    "\n",
    "# save to csv\n",
    "df.to_csv(filename)\n"
   ]
  },
  {
   "cell_type": "code",
   "execution_count": 53,
   "metadata": {},
   "outputs": [],
   "source": [
    "#short_variable_name = 'r'\n",
    "#ylabel = \"Relative Humidity (%)\"\n",
    "#plot_title = 'Relative humidity, Era 5 test, daily'\n",
    "# ylim = (0, 100)\n",
    "\n",
    "def plot_ERA5_and_data(df_data, df_ERA5, short_variable_name, fig_name, ylabel, plot_title = '', ylim = False):\n",
    "\n",
    "    # this function plots observational data from CFHT and data from ERA 5\n",
    "    plt.plot(df_data, 'bo', markersize = '2', label = 'CFHT') #, legend = 'CFHT'\n",
    "    \n",
    "    plt.plot(df_ERA5['time'],df_ERA5[short_variable_name], 'ro', markersize = '2', label = 'ERA 5') \n",
    "\n",
    "    plt.title(plot_title)\n",
    "\n",
    "    plt.ylabel(ylabel)\n",
    "    plt.xlabel(\"Time (s)\")\n",
    "    if ylim == True:\n",
    "        plt.ylim(ylim)\n",
    "        \n",
    "    #plt.xlim(('2012-01-01', '2018-01-01')) why does this not work??\n",
    "    plt.legend()\n",
    "\n",
    "    plt.savefig(fig_name)\n",
    "    #plt.show()\n"
   ]
  },
  {
   "cell_type": "code",
   "execution_count": null,
   "metadata": {},
   "outputs": [],
   "source": [
    "plot_ERA5_and_data(df_data, df_ERA5, short_variable_name, fig_name, ylabel, plot_title = 'Relative humidity, Era 5, daily', ylim = (0, 100))"
   ]
  },
  {
   "cell_type": "code",
   "execution_count": 42,
   "metadata": {},
   "outputs": [],
   "source": [
    "#convert TEMPERATURE to timeseries\n",
    "import sunpy.timeseries as ts  \n",
    "\n",
    "#change parameters for every file\n",
    "filename = 'downsampled_Temperatur_hourly_mean.csv'\n",
    "\n",
    "\n",
    "timeseries = []\n",
    "downsampled = []\n",
    "\n",
    "#tables_to2000 = []\n",
    "#tables_to2000[:10] = tables[:10]\n",
    "\n",
    "\n",
    "\n",
    "for i, table in enumerate(tables):#tables_to2000\n",
    "    timeseries.append(ts.TimeSeries(hstack([table['times'], table['temperature(C)']])))\n",
    "    downsampled.append(timeseries[i].data.resample('1m').mean()) #1m for monthly mean, 1d for daily mean, 1h for hourly mean\n",
    "df_T = pd.concat(downsampled)\n",
    "\n",
    "# save to csv\n",
    "#df.to_csv(filename)"
   ]
  },
  {
   "cell_type": "code",
   "execution_count": 43,
   "metadata": {},
   "outputs": [
    {
     "data": {
      "image/png": "[encoded data removed]",
      "text/plain": [
       "<Figure size 432x288 with 1 Axes>"
      ]
     },
     "metadata": {
      "needs_background": "light"
     },
     "output_type": "display_data"
    }
   ],
   "source": [
    "# save to csv\n",
    "df_T.to_csv(filename)\n",
    "#and plot\n",
    "plt.plot(df_T, 'bo', markersize = '2')\n",
    "#ax.set_ylim([0, 100]) #error \"name ax is not defined\" appears\"\n",
    "\n",
    "#change y label and fig name!!\n",
    "fig_name = '1991_2018_CFHT_Temperature_monthly_mean.pdf'\n",
    "plt.ylabel(\"Temperature(C)\")\n",
    "\n",
    "plt.xlabel(\"Time (s)\")\n",
    "plt.savefig(fig_name)"
   ]
  },
  {
   "cell_type": "code",
   "execution_count": 264,
   "metadata": {
    "collapsed": true
   },
   "outputs": [
    {
     "ename": "KeyError",
     "evalue": "'times'",
     "output_type": "error",
     "traceback": [
      "\u001b[0;31m---------------------------------------------------------------------------\u001b[0m",
      "\u001b[0;31mKeyError\u001b[0m                                  Traceback (most recent call last)",
      "\u001b[0;32m<ipython-input-264-85cdaec0c206>\u001b[0m in \u001b[0;36m<module>\u001b[0;34m\u001b[0m\n\u001b[1;32m     12\u001b[0m \u001b[0;31m#ts_RH_1992 = ts.TimeSeries(hstack([tables[1]['times'], tables[1]['RH(%)']]))\u001b[0m\u001b[0;34m\u001b[0m\u001b[0;34m\u001b[0m\u001b[0;34m\u001b[0m\u001b[0m\n\u001b[1;32m     13\u001b[0m \u001b[0;31m#ts_RH_1993 = ts.TimeSeries(hstack([tables[2]['times'], tables[2]['RH(%)']]))\u001b[0m\u001b[0;34m\u001b[0m\u001b[0;34m\u001b[0m\u001b[0;34m\u001b[0m\u001b[0m\n\u001b[0;32m---> 14\u001b[0;31m \u001b[0mts_RH_1994\u001b[0m \u001b[0;34m=\u001b[0m \u001b[0mts\u001b[0m\u001b[0;34m.\u001b[0m\u001b[0mTimeSeries\u001b[0m\u001b[0;34m(\u001b[0m\u001b[0mhstack\u001b[0m\u001b[0;34m(\u001b[0m\u001b[0;34m[\u001b[0m\u001b[0mtables\u001b[0m\u001b[0;34m[\u001b[0m\u001b[0;36m3\u001b[0m\u001b[0;34m]\u001b[0m\u001b[0;34m[\u001b[0m\u001b[0;34m'times'\u001b[0m\u001b[0;34m]\u001b[0m\u001b[0;34m,\u001b[0m \u001b[0mtables\u001b[0m\u001b[0;34m[\u001b[0m\u001b[0;36m3\u001b[0m\u001b[0;34m]\u001b[0m\u001b[0;34m[\u001b[0m\u001b[0;34m'RH(%)'\u001b[0m\u001b[0;34m]\u001b[0m\u001b[0;34m]\u001b[0m\u001b[0;34m)\u001b[0m\u001b[0;34m)\u001b[0m\u001b[0;34m\u001b[0m\u001b[0;34m\u001b[0m\u001b[0m\n\u001b[0m\u001b[1;32m     15\u001b[0m \u001b[0mts_RH_1995\u001b[0m \u001b[0;34m=\u001b[0m \u001b[0mts\u001b[0m\u001b[0;34m.\u001b[0m\u001b[0mTimeSeries\u001b[0m\u001b[0;34m(\u001b[0m\u001b[0mhstack\u001b[0m\u001b[0;34m(\u001b[0m\u001b[0;34m[\u001b[0m\u001b[0mtables\u001b[0m\u001b[0;34m[\u001b[0m\u001b[0;36m4\u001b[0m\u001b[0;34m]\u001b[0m\u001b[0;34m[\u001b[0m\u001b[0;34m'times'\u001b[0m\u001b[0;34m]\u001b[0m\u001b[0;34m,\u001b[0m \u001b[0mtables\u001b[0m\u001b[0;34m[\u001b[0m\u001b[0;36m4\u001b[0m\u001b[0;34m]\u001b[0m\u001b[0;34m[\u001b[0m\u001b[0;34m'RH(%)'\u001b[0m\u001b[0;34m]\u001b[0m\u001b[0;34m]\u001b[0m\u001b[0;34m)\u001b[0m\u001b[0;34m)\u001b[0m\u001b[0;34m\u001b[0m\u001b[0;34m\u001b[0m\u001b[0m\n\u001b[1;32m     16\u001b[0m \u001b[0mts_RH_1996\u001b[0m \u001b[0;34m=\u001b[0m \u001b[0mts\u001b[0m\u001b[0;34m.\u001b[0m\u001b[0mTimeSeries\u001b[0m\u001b[0;34m(\u001b[0m\u001b[0mhstack\u001b[0m\u001b[0;34m(\u001b[0m\u001b[0;34m[\u001b[0m\u001b[0mtables\u001b[0m\u001b[0;34m[\u001b[0m\u001b[0;36m5\u001b[0m\u001b[0;34m]\u001b[0m\u001b[0;34m[\u001b[0m\u001b[0;34m'times'\u001b[0m\u001b[0;34m]\u001b[0m\u001b[0;34m,\u001b[0m \u001b[0mtables\u001b[0m\u001b[0;34m[\u001b[0m\u001b[0;36m5\u001b[0m\u001b[0;34m]\u001b[0m\u001b[0;34m[\u001b[0m\u001b[0;34m'RH(%)'\u001b[0m\u001b[0;34m]\u001b[0m\u001b[0;34m]\u001b[0m\u001b[0;34m)\u001b[0m\u001b[0;34m)\u001b[0m\u001b[0;34m\u001b[0m\u001b[0;34m\u001b[0m\u001b[0m\n",
      "\u001b[0;32m~/anaconda3/lib/python3.7/site-packages/astropy/table/table.py\u001b[0m in \u001b[0;36m__getitem__\u001b[0;34m(self, item)\u001b[0m\n\u001b[1;32m   1344\u001b[0m     \u001b[0;32mdef\u001b[0m \u001b[0m__getitem__\u001b[0m\u001b[0;34m(\u001b[0m\u001b[0mself\u001b[0m\u001b[0;34m,\u001b[0m \u001b[0mitem\u001b[0m\u001b[0;34m)\u001b[0m\u001b[0;34m:\u001b[0m\u001b[0;34m\u001b[0m\u001b[0;34m\u001b[0m\u001b[0m\n\u001b[1;32m   1345\u001b[0m         \u001b[0;32mif\u001b[0m \u001b[0misinstance\u001b[0m\u001b[0;34m(\u001b[0m\u001b[0mitem\u001b[0m\u001b[0;34m,\u001b[0m \u001b[0mstr\u001b[0m\u001b[0;34m)\u001b[0m\u001b[0;34m:\u001b[0m\u001b[0;34m\u001b[0m\u001b[0;34m\u001b[0m\u001b[0m\n\u001b[0;32m-> 1346\u001b[0;31m             \u001b[0;32mreturn\u001b[0m \u001b[0mself\u001b[0m\u001b[0;34m.\u001b[0m\u001b[0mcolumns\u001b[0m\u001b[0;34m[\u001b[0m\u001b[0mitem\u001b[0m\u001b[0;34m]\u001b[0m\u001b[0;34m\u001b[0m\u001b[0;34m\u001b[0m\u001b[0m\n\u001b[0m\u001b[1;32m   1347\u001b[0m         \u001b[0;32melif\u001b[0m \u001b[0misinstance\u001b[0m\u001b[0;34m(\u001b[0m\u001b[0mitem\u001b[0m\u001b[0;34m,\u001b[0m \u001b[0;34m(\u001b[0m\u001b[0mint\u001b[0m\u001b[0;34m,\u001b[0m \u001b[0mnp\u001b[0m\u001b[0;34m.\u001b[0m\u001b[0minteger\u001b[0m\u001b[0;34m)\u001b[0m\u001b[0;34m)\u001b[0m\u001b[0;34m:\u001b[0m\u001b[0;34m\u001b[0m\u001b[0;34m\u001b[0m\u001b[0m\n\u001b[1;32m   1348\u001b[0m             \u001b[0;32mreturn\u001b[0m \u001b[0mself\u001b[0m\u001b[0;34m.\u001b[0m\u001b[0mRow\u001b[0m\u001b[0;34m(\u001b[0m\u001b[0mself\u001b[0m\u001b[0;34m,\u001b[0m \u001b[0mitem\u001b[0m\u001b[0;34m)\u001b[0m\u001b[0;34m\u001b[0m\u001b[0;34m\u001b[0m\u001b[0m\n",
      "\u001b[0;32m~/anaconda3/lib/python3.7/site-packages/astropy/table/table.py\u001b[0m in \u001b[0;36m__getitem__\u001b[0;34m(self, item)\u001b[0m\n\u001b[1;32m    188\u001b[0m         \"\"\"\n\u001b[1;32m    189\u001b[0m         \u001b[0;32mif\u001b[0m \u001b[0misinstance\u001b[0m\u001b[0;34m(\u001b[0m\u001b[0mitem\u001b[0m\u001b[0;34m,\u001b[0m \u001b[0mstr\u001b[0m\u001b[0;34m)\u001b[0m\u001b[0;34m:\u001b[0m\u001b[0;34m\u001b[0m\u001b[0;34m\u001b[0m\u001b[0m\n\u001b[0;32m--> 190\u001b[0;31m             \u001b[0;32mreturn\u001b[0m \u001b[0mOrderedDict\u001b[0m\u001b[0;34m.\u001b[0m\u001b[0m__getitem__\u001b[0m\u001b[0;34m(\u001b[0m\u001b[0mself\u001b[0m\u001b[0;34m,\u001b[0m \u001b[0mitem\u001b[0m\u001b[0;34m)\u001b[0m\u001b[0;34m\u001b[0m\u001b[0;34m\u001b[0m\u001b[0m\n\u001b[0m\u001b[1;32m    191\u001b[0m         \u001b[0;32melif\u001b[0m \u001b[0misinstance\u001b[0m\u001b[0;34m(\u001b[0m\u001b[0mitem\u001b[0m\u001b[0;34m,\u001b[0m \u001b[0;34m(\u001b[0m\u001b[0mint\u001b[0m\u001b[0;34m,\u001b[0m \u001b[0mnp\u001b[0m\u001b[0;34m.\u001b[0m\u001b[0minteger\u001b[0m\u001b[0;34m)\u001b[0m\u001b[0;34m)\u001b[0m\u001b[0;34m:\u001b[0m\u001b[0;34m\u001b[0m\u001b[0;34m\u001b[0m\u001b[0m\n\u001b[1;32m    192\u001b[0m             \u001b[0;32mreturn\u001b[0m \u001b[0mself\u001b[0m\u001b[0;34m.\u001b[0m\u001b[0mvalues\u001b[0m\u001b[0;34m(\u001b[0m\u001b[0;34m)\u001b[0m\u001b[0;34m[\u001b[0m\u001b[0mitem\u001b[0m\u001b[0;34m]\u001b[0m\u001b[0;34m\u001b[0m\u001b[0;34m\u001b[0m\u001b[0m\n",
      "\u001b[0;31mKeyError\u001b[0m: 'times'"
     ]
    }
   ],
   "source": [
    "import sunpy.timeseries as ts  \n",
    "    \n",
    "# put time and RH into one table\n",
    "#ts_RH_append = ([tables[i]['times'], tables[i]['RH(%)']])\n",
    "#for i in range (0,2001-1991):\n",
    "    #ts_RH.append = hstack([tables[i]['times'], tables[i]['RH(%)']])\n",
    "#    ts_RH = Table(names=['time_object', 'RH(%)'], data=[tables[i]['times'], tables[i]['RH(%)']])\n",
    "#    print(i)\n",
    "#    tables_RH.append(ts_RH)\n",
    "\n",
    "#ts_RH_1991 = ts.TimeSeries(hstack([tables[0]['times'], tables[0]['RH(%)']]))\n",
    "#ts_RH_1992 = ts.TimeSeries(hstack([tables[1]['times'], tables[1]['RH(%)']]))\n",
    "#ts_RH_1993 = ts.TimeSeries(hstack([tables[2]['times'], tables[2]['RH(%)']]))\n",
    "ts_RH_1994 = ts.TimeSeries(hstack([tables[3]['times'], tables[3]['RH(%)']]))\n",
    "ts_RH_1995 = ts.TimeSeries(hstack([tables[4]['times'], tables[4]['RH(%)']]))\n",
    "ts_RH_1996 = ts.TimeSeries(hstack([tables[5]['times'], tables[5]['RH(%)']]))\n",
    "ts_RH_1997 = ts.TimeSeries(hstack([tables[6]['times'], tables[6]['RH(%)']]))\n",
    "ts_RH_1998 = ts.TimeSeries(hstack([tables[7]['times'], tables[7]['RH(%)']]))\n",
    "ts_RH_1999 = ts.TimeSeries(hstack([tables[8]['times'], tables[8]['RH(%)']]))\n",
    "ts_RH_2000 = ts.TimeSeries(hstack([tables[9]['times'], tables[9]['RH(%)']]))\n",
    "\n",
    "\n",
    "\n",
    "\n",
    "downsampled_dataframe_RH_1991 = ts_RH_1991.data.resample('1d').mean()\n",
    "downsampled_dataframe_RH_1992 = ts_RH_1992.data.resample('1d').mean()\n",
    "downsampled_dataframe_RH_1993 = ts_RH_1993.data.resample('1d').mean()\n",
    "downsampled_dataframe_RH_1994 = ts_RH_1994.data.resample('1d').mean()\n",
    "downsampled_dataframe_RH_1995 = ts_RH_1995.data.resample('1d').mean()\n",
    "downsampled_dataframe_RH_1996 = ts_RH_1996.data.resample('1d').mean()\n",
    "downsampled_dataframe_RH_1997 = ts_RH_1997.data.resample('1d').mean()\n",
    "downsampled_dataframe_RH_1998 = ts_RH_1998.data.resample('1d').mean()\n",
    "downsampled_dataframe_RH_1999 = ts_RH_1999.data.resample('1d').mean()\n",
    "downsampled_dataframe_RH_2000 = ts_RH_2000.data.resample('1d').mean()\n",
    "\n",
    "\n",
    "df3_daily = pd.concat([downsampled_dataframe_RH_1991, downsampled_dataframe_RH_1992, downsampled_dataframe_RH_1993, downsampled_dataframe_RH_1994,\n",
    "                downsampled_dataframe_RH_1995, downsampled_dataframe_RH_1996, downsampled_dataframe_RH_1997, downsampled_dataframe_RH_1998, \n",
    "                 downsampled_dataframe_RH_1999, downsampled_dataframe_RH_2000])\n",
    "\n",
    "plt.plot(df3_daily)\n",
    "\n",
    "#downsampled_dataframe_RH_1991.plot()\n",
    "#plt.show()\n",
    "\n",
    "plt.xlabel(\"Time (s)\")\n",
    "plt.ylabel(\"Relative Humidity (%)\")\n",
    "plt.savefig('RH_1991_2000_daily_mean.pdf')"
   ]
  },
  {
   "cell_type": "code",
   "execution_count": 44,
   "metadata": {
    "collapsed": true
   },
   "outputs": [
    {
     "data": {
      "image/png": "[encoded data removed]",
      "text/plain": [
       "<Figure size 432x288 with 1 Axes>"
      ]
     },
     "metadata": {
      "needs_background": "light"
     },
     "output_type": "display_data"
    }
   ],
   "source": [
    "#start here!\n",
    "#pressure diagram\n",
    "\n",
    "import sunpy.timeseries as ts\n",
    "\n",
    "tables_RH = []   \n",
    "    \n",
    "# put time and RH into one table\n",
    "#ts_RH_append = ([tables[i]['times'], tables[i]['RH(%)']])\n",
    "#for i in range (0,2001-1991):\n",
    "    #ts_RH.append = hstack([tables[i]['times'], tables[i]['RH(%)']])\n",
    "#    ts_RH = Table(names=['time_object', 'RH(%)'], data=[tables[i]['times'], tables[i]['RH(%)']])\n",
    "#    print(i)\n",
    "#    tables_RH.append(ts_RH)\n",
    "\n",
    "\n",
    "ts_pr_1991 = ts.TimeSeries(hstack([tables[0]['times'], tables[0]['pressure(mb)']]))\n",
    "ts_pr_1992 = ts.TimeSeries(hstack([tables[1]['times'], tables[1]['pressure(mb)']]))\n",
    "ts_pr_1993 = ts.TimeSeries(hstack([tables[2]['times'], tables[2]['pressure(mb)']]))\n",
    "ts_pr_1994 = ts.TimeSeries(hstack([tables[3]['times'], tables[3]['pressure(mb)']]))\n",
    "ts_pr_1995 = ts.TimeSeries(hstack([tables[4]['times'], tables[4]['pressure(mb)']]))\n",
    "ts_pr_1996 = ts.TimeSeries(hstack([tables[5]['times'], tables[5]['pressure(mb)']]))\n",
    "ts_pr_1997 = ts.TimeSeries(hstack([tables[6]['times'], tables[6]['pressure(mb)']]))\n",
    "ts_pr_1998 = ts.TimeSeries(hstack([tables[7]['times'], tables[7]['pressure(mb)']]))\n",
    "ts_pr_1999 = ts.TimeSeries(hstack([tables[8]['times'], tables[8]['pressure(mb)']]))\n",
    "ts_pr_2000 = ts.TimeSeries(hstack([tables[9]['times'], tables[9]['pressure(mb)']]))\n",
    "\n",
    "\n",
    "downsampled_dataframe_pr_1991 = ts_pr_1991.data.resample('1m').mean()\n",
    "downsampled_dataframe_pr_1992 = ts_pr_1992.data.resample('1m').mean()\n",
    "downsampled_dataframe_pr_1993 = ts_pr_1993.data.resample('1m').mean()\n",
    "downsampled_dataframe_pr_1994 = ts_pr_1994.data.resample('1m').mean()\n",
    "downsampled_dataframe_pr_1995 = ts_pr_1995.data.resample('1m').mean()\n",
    "downsampled_dataframe_pr_1996 = ts_pr_1996.data.resample('1m').mean()\n",
    "downsampled_dataframe_pr_1997 = ts_pr_1997.data.resample('1m').mean()\n",
    "downsampled_dataframe_pr_1998 = ts_pr_1998.data.resample('1m').mean()\n",
    "downsampled_dataframe_pr_1999 = ts_pr_1999.data.resample('1m').mean()\n",
    "downsampled_dataframe_pr_2000 = ts_pr_2000.data.resample('1m').mean()\n",
    "\n",
    "\n",
    "df3 = pd.concat([downsampled_dataframe_pr_1991, downsampled_dataframe_pr_1992, downsampled_dataframe_pr_1993, downsampled_dataframe_pr_1994,\n",
    "                downsampled_dataframe_pr_1995, downsampled_dataframe_pr_1996, downsampled_dataframe_pr_1997, downsampled_dataframe_pr_1998, \n",
    "                 downsampled_dataframe_pr_1999, downsampled_dataframe_pr_2000])\n",
    "\n",
    "plt.plot(df3)\n",
    "#downsampled_dataframe_RH_1991.plot()\n",
    "#plt.show()\n",
    "\n",
    "plt.xlabel(\"Time (s)\")\n",
    "plt.ylabel(\"pressure (mb)\")\n",
    "plt.savefig('pressure_MaunaKea_1991_2000_monthly.pdf')"
   ]
  }
 ],
 "metadata": {
  "kernelspec": {
   "display_name": "Python 3",
   "language": "python",
   "name": "python3"
  },
  "language_info": {
   "codemirror_mode": {
    "name": "ipython",
    "version": 3
   },
   "file_extension": ".py",
   "mimetype": "text/x-python",
   "name": "python",
   "nbconvert_exporter": "python",
   "pygments_lexer": "ipython3",
   "version": "3.7.3"
  }
 },
 "nbformat": 4,
 "nbformat_minor": 2
}
