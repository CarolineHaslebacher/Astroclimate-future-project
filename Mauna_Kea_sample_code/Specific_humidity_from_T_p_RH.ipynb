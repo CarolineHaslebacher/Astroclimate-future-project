{
 "cells": [
  {
   "cell_type": "code",
   "execution_count": 20,
   "metadata": {},
   "outputs": [],
   "source": [
    "import math\n",
    "import matplotlib.pyplot as plt\n",
    "import numpy as np\n",
    "import pandas as pd\n",
    "\n",
    "from matplotlib import dates as d\n",
    "import datetime as dt\n",
    "import time\n",
    "\n",
    "from functools import reduce"
   ]
  },
  {
   "cell_type": "code",
   "execution_count": 6,
   "metadata": {},
   "outputs": [
    {
     "data": {
      "text/plain": [
       "1.0"
      ]
     },
     "execution_count": 6,
     "metadata": {},
     "output_type": "execute_result"
    }
   ],
   "source": [
    "np.exp(0)"
   ]
  },
  {
   "cell_type": "code",
   "execution_count": 124,
   "metadata": {},
   "outputs": [],
   "source": [
    "def Specific_humidity(T, p, RH):\n",
    "    # unit of specific humidity: kg/kg\n",
    "    # pressure in hPa = mbar\n",
    "    # Temperature in Celsius\n",
    "    # RH = relative humidity (%)\n",
    "    \n",
    "    # q denotes specific humidity\n",
    "    # formula: q = qs * RH = 0.622 * es/p * RH\n",
    "    # with es the saturated vapor pressure, formula: Buck equation, Wikipedia\n",
    "    q = RH/100 * 0.622 * 6.1121 * 1./p *np.exp((18.678 - T/234.5)*(T/(257.14 + T)))\n",
    "    return(q)"
   ]
  },
  {
   "cell_type": "code",
   "execution_count": 125,
   "metadata": {},
   "outputs": [
    {
     "data": {
      "text/plain": [
       "0.0025293934354107686"
      ]
     },
     "execution_count": 125,
     "metadata": {},
     "output_type": "execute_result"
    }
   ],
   "source": [
    "Specific_humidity(4, 600.1, 30)"
   ]
  },
  {
   "cell_type": "code",
   "execution_count": 14,
   "metadata": {},
   "outputs": [],
   "source": [
    "# prepare CFHT observational data for merging\n",
    "def mes_prep(CFHT_hourly, parameter = None):\n",
    "    CFHT_hourly = CFHT_hourly.rename(columns={'Unnamed: 0': 'time'})\n",
    "    # change the format of the times column to datetime format\n",
    "    CFHT_hourly['time'] = pd.to_datetime(CFHT_hourly['time']) \n",
    "\n",
    "    #check the format\n",
    "    print(CFHT_hourly['time'].dtype)\n",
    "    #print(CFHT_hourly['time'][0])\n",
    "\n",
    "    #from HST to UTC (+10 hours)\n",
    "    CFHT_hourly['time'] = CFHT_hourly['time'] + dt.timedelta(hours=10)\n",
    "    \n",
    "    #set index \n",
    "    CFHT_hourly.set_index('time', inplace=True)\n",
    "    \n",
    "    if parameter == 'temperature(C)':\n",
    "        #filter out values exactly equal to 0\n",
    "        mask_T = (CFHT_hourly['temperature(C)'] != 0)\n",
    "        CFHT_hourly = CFHT_hourly[mask_T]\n",
    "        print('masked')\n",
    "\n",
    "    # create a new column consisting of the cycle parameter of the correspondend entry\n",
    "    #for seasonal cycle (12 months), create column with \"months\"\n",
    "    #CFHT_hourly['months'] = pd.DatetimeIndex(CFHT_hourly.index).month                                            \n",
    "\n",
    "    #for diurnal cycle (24 hours), create column with \"hours\"\n",
    "    #CFHT_hourly['hours'] = pd.DatetimeIndex(CFHT_hourly.index).hour\n",
    "    \n",
    "    return(CFHT_hourly)"
   ]
  },
  {
   "cell_type": "code",
   "execution_count": 9,
   "metadata": {},
   "outputs": [],
   "source": [
    "#observational data from MaunaKea (CFHT), temperature, RH, pressure\n",
    "CFHT_T_hourly = pd.read_csv('/home/caroline/Dropbox/Astroclimate Project/Mauna_Kea/CFHT/Temperature/downsampled_CFHT_T_1991to2018_hourly_means.csv')\n",
    "CFHT_RH_hourly = pd.read_csv('/home/caroline/Dropbox/Astroclimate Project/Mauna_Kea/CFHT/pressure_levels_600to750hPa/RH/R/downsampled_masked_RH_1991to2018_hourly_means.csv')\n",
    "CFHT_P_hourly = pd.read_csv('/home/caroline/Dropbox/Astroclimate Project/Mauna_Kea/CFHT/pressure/downsampled_Pressure_hourly.csv')"
   ]
  },
  {
   "cell_type": "code",
   "execution_count": 18,
   "metadata": {},
   "outputs": [
    {
     "name": "stdout",
     "output_type": "stream",
     "text": [
      "datetime64[ns]\n",
      "datetime64[ns]\n",
      "masked\n"
     ]
    }
   ],
   "source": [
    "CFHT_P_hourly = mes_prep(CFHT_P_hourly)\n",
    "CFHT_RH_hourly = mes_prep(CFHT_RH_hourly)\n",
    "CFHT_T_hourly = mes_prep(CFHT_T_hourly, 'temperature(C)')"
   ]
  },
  {
   "cell_type": "code",
   "execution_count": 21,
   "metadata": {},
   "outputs": [],
   "source": [
    "# merge datasets, filter nans\n",
    "    \n",
    "df_list = [CFHT_T_hourly, CFHT_P_hourly, CFHT_RH_hourly, ]\n",
    "df_merged = reduce(lambda left, right: pd.merge(left, right, left_on='time', right_on='time', how='outer'), df_list)\n",
    "\n",
    "# delete rows containing NaN\n",
    "df_merged_nonan = df_merged.dropna(axis='rows', how='any', thresh=None, subset=None, inplace=False)"
   ]
  },
  {
   "cell_type": "code",
   "execution_count": 24,
   "metadata": {},
   "outputs": [
    {
     "data": {
      "text/html": [
       "<div>\n",
       "<style scoped>\n",
       "    .dataframe tbody tr th:only-of-type {\n",
       "        vertical-align: middle;\n",
       "    }\n",
       "\n",
       "    .dataframe tbody tr th {\n",
       "        vertical-align: top;\n",
       "    }\n",
       "\n",
       "    .dataframe thead th {\n",
       "        text-align: right;\n",
       "    }\n",
       "</style>\n",
       "<table border=\"1\" class=\"dataframe\">\n",
       "  <thead>\n",
       "    <tr style=\"text-align: right;\">\n",
       "      <th></th>\n",
       "      <th>temperature(C)</th>\n",
       "      <th>pressure (mb)</th>\n",
       "      <th>relative_humidity(%)</th>\n",
       "    </tr>\n",
       "    <tr>\n",
       "      <th>time</th>\n",
       "      <th></th>\n",
       "      <th></th>\n",
       "      <th></th>\n",
       "    </tr>\n",
       "  </thead>\n",
       "  <tbody>\n",
       "    <tr>\n",
       "      <th>2000-01-01 10:00:00</th>\n",
       "      <td>-0.736667</td>\n",
       "      <td>612.560000</td>\n",
       "      <td>27.386667</td>\n",
       "    </tr>\n",
       "    <tr>\n",
       "      <th>2000-01-01 11:00:00</th>\n",
       "      <td>-0.481667</td>\n",
       "      <td>612.330000</td>\n",
       "      <td>25.248333</td>\n",
       "    </tr>\n",
       "    <tr>\n",
       "      <th>2000-01-01 12:00:00</th>\n",
       "      <td>-0.451667</td>\n",
       "      <td>611.941667</td>\n",
       "      <td>25.190000</td>\n",
       "    </tr>\n",
       "    <tr>\n",
       "      <th>2000-01-01 13:00:00</th>\n",
       "      <td>-0.358333</td>\n",
       "      <td>611.471667</td>\n",
       "      <td>25.373333</td>\n",
       "    </tr>\n",
       "    <tr>\n",
       "      <th>2000-01-01 14:00:00</th>\n",
       "      <td>-0.110000</td>\n",
       "      <td>611.638333</td>\n",
       "      <td>23.635000</td>\n",
       "    </tr>\n",
       "    <tr>\n",
       "      <th>...</th>\n",
       "      <td>...</td>\n",
       "      <td>...</td>\n",
       "      <td>...</td>\n",
       "    </tr>\n",
       "    <tr>\n",
       "      <th>2020-01-17 08:00:00</th>\n",
       "      <td>-0.508500</td>\n",
       "      <td>614.150000</td>\n",
       "      <td>98.466667</td>\n",
       "    </tr>\n",
       "    <tr>\n",
       "      <th>2020-01-17 09:00:00</th>\n",
       "      <td>-0.339333</td>\n",
       "      <td>614.043333</td>\n",
       "      <td>96.383333</td>\n",
       "    </tr>\n",
       "    <tr>\n",
       "      <th>2020-01-17 10:00:00</th>\n",
       "      <td>-0.553333</td>\n",
       "      <td>613.805000</td>\n",
       "      <td>98.433333</td>\n",
       "    </tr>\n",
       "    <tr>\n",
       "      <th>2020-01-17 11:00:00</th>\n",
       "      <td>-0.439333</td>\n",
       "      <td>613.600000</td>\n",
       "      <td>98.350000</td>\n",
       "    </tr>\n",
       "    <tr>\n",
       "      <th>2020-01-17 12:00:00</th>\n",
       "      <td>-0.804643</td>\n",
       "      <td>613.389286</td>\n",
       "      <td>94.535714</td>\n",
       "    </tr>\n",
       "  </tbody>\n",
       "</table>\n",
       "<p>169567 rows × 3 columns</p>\n",
       "</div>"
      ],
      "text/plain": [
       "                     temperature(C)  pressure (mb)  relative_humidity(%)\n",
       "time                                                                    \n",
       "2000-01-01 10:00:00       -0.736667     612.560000             27.386667\n",
       "2000-01-01 11:00:00       -0.481667     612.330000             25.248333\n",
       "2000-01-01 12:00:00       -0.451667     611.941667             25.190000\n",
       "2000-01-01 13:00:00       -0.358333     611.471667             25.373333\n",
       "2000-01-01 14:00:00       -0.110000     611.638333             23.635000\n",
       "...                             ...            ...                   ...\n",
       "2020-01-17 08:00:00       -0.508500     614.150000             98.466667\n",
       "2020-01-17 09:00:00       -0.339333     614.043333             96.383333\n",
       "2020-01-17 10:00:00       -0.553333     613.805000             98.433333\n",
       "2020-01-17 11:00:00       -0.439333     613.600000             98.350000\n",
       "2020-01-17 12:00:00       -0.804643     613.389286             94.535714\n",
       "\n",
       "[169567 rows x 3 columns]"
      ]
     },
     "execution_count": 24,
     "metadata": {},
     "output_type": "execute_result"
    }
   ],
   "source": [
    "df_merged_nonan"
   ]
  },
  {
   "cell_type": "code",
   "execution_count": 92,
   "metadata": {},
   "outputs": [],
   "source": [
    "df_merged_nonan = df_merged_nonan.rename(columns={'T': 'Temp'})\n",
    "#df_merged_nonan = df_merged_nonan.rename(columns={'temperature(C)': 'T'})"
   ]
  },
  {
   "cell_type": "code",
   "execution_count": 42,
   "metadata": {},
   "outputs": [],
   "source": [
    "df_merged_nonan = df_merged_nonan.rename(columns={'relative_humidity(%)': 'RH'})"
   ]
  },
  {
   "cell_type": "code",
   "execution_count": 41,
   "metadata": {},
   "outputs": [],
   "source": [
    "df_merged_nonan = df_merged_nonan.rename(columns={'pressure (mb)': 'P'})"
   ]
  },
  {
   "cell_type": "code",
   "execution_count": 43,
   "metadata": {
    "collapsed": true
   },
   "outputs": [
    {
     "data": {
      "text/html": [
       "<div>\n",
       "<style scoped>\n",
       "    .dataframe tbody tr th:only-of-type {\n",
       "        vertical-align: middle;\n",
       "    }\n",
       "\n",
       "    .dataframe tbody tr th {\n",
       "        vertical-align: top;\n",
       "    }\n",
       "\n",
       "    .dataframe thead th {\n",
       "        text-align: right;\n",
       "    }\n",
       "</style>\n",
       "<table border=\"1\" class=\"dataframe\">\n",
       "  <thead>\n",
       "    <tr style=\"text-align: right;\">\n",
       "      <th></th>\n",
       "      <th>T</th>\n",
       "      <th>P</th>\n",
       "      <th>RH</th>\n",
       "    </tr>\n",
       "    <tr>\n",
       "      <th>time</th>\n",
       "      <th></th>\n",
       "      <th></th>\n",
       "      <th></th>\n",
       "    </tr>\n",
       "  </thead>\n",
       "  <tbody>\n",
       "    <tr>\n",
       "      <th>2000-01-01 10:00:00</th>\n",
       "      <td>-0.736667</td>\n",
       "      <td>612.560000</td>\n",
       "      <td>27.386667</td>\n",
       "    </tr>\n",
       "    <tr>\n",
       "      <th>2000-01-01 11:00:00</th>\n",
       "      <td>-0.481667</td>\n",
       "      <td>612.330000</td>\n",
       "      <td>25.248333</td>\n",
       "    </tr>\n",
       "    <tr>\n",
       "      <th>2000-01-01 12:00:00</th>\n",
       "      <td>-0.451667</td>\n",
       "      <td>611.941667</td>\n",
       "      <td>25.190000</td>\n",
       "    </tr>\n",
       "    <tr>\n",
       "      <th>2000-01-01 13:00:00</th>\n",
       "      <td>-0.358333</td>\n",
       "      <td>611.471667</td>\n",
       "      <td>25.373333</td>\n",
       "    </tr>\n",
       "    <tr>\n",
       "      <th>2000-01-01 14:00:00</th>\n",
       "      <td>-0.110000</td>\n",
       "      <td>611.638333</td>\n",
       "      <td>23.635000</td>\n",
       "    </tr>\n",
       "    <tr>\n",
       "      <th>...</th>\n",
       "      <td>...</td>\n",
       "      <td>...</td>\n",
       "      <td>...</td>\n",
       "    </tr>\n",
       "    <tr>\n",
       "      <th>2020-01-17 08:00:00</th>\n",
       "      <td>-0.508500</td>\n",
       "      <td>614.150000</td>\n",
       "      <td>98.466667</td>\n",
       "    </tr>\n",
       "    <tr>\n",
       "      <th>2020-01-17 09:00:00</th>\n",
       "      <td>-0.339333</td>\n",
       "      <td>614.043333</td>\n",
       "      <td>96.383333</td>\n",
       "    </tr>\n",
       "    <tr>\n",
       "      <th>2020-01-17 10:00:00</th>\n",
       "      <td>-0.553333</td>\n",
       "      <td>613.805000</td>\n",
       "      <td>98.433333</td>\n",
       "    </tr>\n",
       "    <tr>\n",
       "      <th>2020-01-17 11:00:00</th>\n",
       "      <td>-0.439333</td>\n",
       "      <td>613.600000</td>\n",
       "      <td>98.350000</td>\n",
       "    </tr>\n",
       "    <tr>\n",
       "      <th>2020-01-17 12:00:00</th>\n",
       "      <td>-0.804643</td>\n",
       "      <td>613.389286</td>\n",
       "      <td>94.535714</td>\n",
       "    </tr>\n",
       "  </tbody>\n",
       "</table>\n",
       "<p>169567 rows × 3 columns</p>\n",
       "</div>"
      ],
      "text/plain": [
       "                            T           P         RH\n",
       "time                                                \n",
       "2000-01-01 10:00:00 -0.736667  612.560000  27.386667\n",
       "2000-01-01 11:00:00 -0.481667  612.330000  25.248333\n",
       "2000-01-01 12:00:00 -0.451667  611.941667  25.190000\n",
       "2000-01-01 13:00:00 -0.358333  611.471667  25.373333\n",
       "2000-01-01 14:00:00 -0.110000  611.638333  23.635000\n",
       "...                       ...         ...        ...\n",
       "2020-01-17 08:00:00 -0.508500  614.150000  98.466667\n",
       "2020-01-17 09:00:00 -0.339333  614.043333  96.383333\n",
       "2020-01-17 10:00:00 -0.553333  613.805000  98.433333\n",
       "2020-01-17 11:00:00 -0.439333  613.600000  98.350000\n",
       "2020-01-17 12:00:00 -0.804643  613.389286  94.535714\n",
       "\n",
       "[169567 rows x 3 columns]"
      ]
     },
     "execution_count": 43,
     "metadata": {},
     "output_type": "execute_result"
    }
   ],
   "source": [
    "df_merged_nonan"
   ]
  },
  {
   "cell_type": "code",
   "execution_count": 112,
   "metadata": {},
   "outputs": [],
   "source": [
    "#calculate specific humidity, write to csv\n",
    "\n",
    "# initialize new column (veeery fast!)\n",
    "df_merged_nonan['specific_humidity'] = np.vectorize(Specific_humidity)(df_merged_nonan.Temp, df_merged_nonan.P, df_merged_nonan.RH)\n",
    "#df_merged_nonan['specific_humidity'] = df_merged_nonan.apply(Specific_humidity(df_merged_nonan.T, df_merged_nonan.P, df_merged_nonan.RH), axis = 1)"
   ]
  },
  {
   "cell_type": "code",
   "execution_count": 113,
   "metadata": {},
   "outputs": [
    {
     "data": {
      "text/html": [
       "<div>\n",
       "<style scoped>\n",
       "    .dataframe tbody tr th:only-of-type {\n",
       "        vertical-align: middle;\n",
       "    }\n",
       "\n",
       "    .dataframe tbody tr th {\n",
       "        vertical-align: top;\n",
       "    }\n",
       "\n",
       "    .dataframe thead th {\n",
       "        text-align: right;\n",
       "    }\n",
       "</style>\n",
       "<table border=\"1\" class=\"dataframe\">\n",
       "  <thead>\n",
       "    <tr style=\"text-align: right;\">\n",
       "      <th></th>\n",
       "      <th>Temp</th>\n",
       "      <th>P</th>\n",
       "      <th>RH</th>\n",
       "      <th>specific_humidity</th>\n",
       "    </tr>\n",
       "    <tr>\n",
       "      <th>time</th>\n",
       "      <th></th>\n",
       "      <th></th>\n",
       "      <th></th>\n",
       "      <th></th>\n",
       "    </tr>\n",
       "  </thead>\n",
       "  <tbody>\n",
       "    <tr>\n",
       "      <th>2000-01-01 10:00:00</th>\n",
       "      <td>-0.736667</td>\n",
       "      <td>612.560000</td>\n",
       "      <td>27.386667</td>\n",
       "      <td>0.001611</td>\n",
       "    </tr>\n",
       "    <tr>\n",
       "      <th>2000-01-01 11:00:00</th>\n",
       "      <td>-0.481667</td>\n",
       "      <td>612.330000</td>\n",
       "      <td>25.248333</td>\n",
       "      <td>0.001514</td>\n",
       "    </tr>\n",
       "    <tr>\n",
       "      <th>2000-01-01 12:00:00</th>\n",
       "      <td>-0.451667</td>\n",
       "      <td>611.941667</td>\n",
       "      <td>25.190000</td>\n",
       "      <td>0.001514</td>\n",
       "    </tr>\n",
       "    <tr>\n",
       "      <th>2000-01-01 13:00:00</th>\n",
       "      <td>-0.358333</td>\n",
       "      <td>611.471667</td>\n",
       "      <td>25.373333</td>\n",
       "      <td>0.001537</td>\n",
       "    </tr>\n",
       "    <tr>\n",
       "      <th>2000-01-01 14:00:00</th>\n",
       "      <td>-0.110000</td>\n",
       "      <td>611.638333</td>\n",
       "      <td>23.635000</td>\n",
       "      <td>0.001457</td>\n",
       "    </tr>\n",
       "    <tr>\n",
       "      <th>...</th>\n",
       "      <td>...</td>\n",
       "      <td>...</td>\n",
       "      <td>...</td>\n",
       "      <td>...</td>\n",
       "    </tr>\n",
       "    <tr>\n",
       "      <th>2020-01-17 08:00:00</th>\n",
       "      <td>-0.508500</td>\n",
       "      <td>614.150000</td>\n",
       "      <td>98.466667</td>\n",
       "      <td>0.005874</td>\n",
       "    </tr>\n",
       "    <tr>\n",
       "      <th>2020-01-17 09:00:00</th>\n",
       "      <td>-0.339333</td>\n",
       "      <td>614.043333</td>\n",
       "      <td>96.383333</td>\n",
       "      <td>0.005822</td>\n",
       "    </tr>\n",
       "    <tr>\n",
       "      <th>2020-01-17 10:00:00</th>\n",
       "      <td>-0.553333</td>\n",
       "      <td>613.805000</td>\n",
       "      <td>98.433333</td>\n",
       "      <td>0.005856</td>\n",
       "    </tr>\n",
       "    <tr>\n",
       "      <th>2020-01-17 11:00:00</th>\n",
       "      <td>-0.439333</td>\n",
       "      <td>613.600000</td>\n",
       "      <td>98.350000</td>\n",
       "      <td>0.005902</td>\n",
       "    </tr>\n",
       "    <tr>\n",
       "      <th>2020-01-17 12:00:00</th>\n",
       "      <td>-0.804643</td>\n",
       "      <td>613.389286</td>\n",
       "      <td>94.535714</td>\n",
       "      <td>0.005526</td>\n",
       "    </tr>\n",
       "  </tbody>\n",
       "</table>\n",
       "<p>169567 rows × 4 columns</p>\n",
       "</div>"
      ],
      "text/plain": [
       "                         Temp           P         RH  specific_humidity\n",
       "time                                                                   \n",
       "2000-01-01 10:00:00 -0.736667  612.560000  27.386667           0.001611\n",
       "2000-01-01 11:00:00 -0.481667  612.330000  25.248333           0.001514\n",
       "2000-01-01 12:00:00 -0.451667  611.941667  25.190000           0.001514\n",
       "2000-01-01 13:00:00 -0.358333  611.471667  25.373333           0.001537\n",
       "2000-01-01 14:00:00 -0.110000  611.638333  23.635000           0.001457\n",
       "...                       ...         ...        ...                ...\n",
       "2020-01-17 08:00:00 -0.508500  614.150000  98.466667           0.005874\n",
       "2020-01-17 09:00:00 -0.339333  614.043333  96.383333           0.005822\n",
       "2020-01-17 10:00:00 -0.553333  613.805000  98.433333           0.005856\n",
       "2020-01-17 11:00:00 -0.439333  613.600000  98.350000           0.005902\n",
       "2020-01-17 12:00:00 -0.804643  613.389286  94.535714           0.005526\n",
       "\n",
       "[169567 rows x 4 columns]"
      ]
     },
     "execution_count": 113,
     "metadata": {},
     "output_type": "execute_result"
    }
   ],
   "source": [
    "df_merged_nonan"
   ]
  },
  {
   "cell_type": "code",
   "execution_count": 122,
   "metadata": {},
   "outputs": [],
   "source": [
    "# there are very high values sometimes, investigate!\n",
    "\n",
    "mask = (df_merged_nonan['specific_humidity'] < 0.1)\n",
    "df_merged_nonan_masked = df_merged_nonan[mask]"
   ]
  },
  {
   "cell_type": "code",
   "execution_count": 127,
   "metadata": {},
   "outputs": [
    {
     "data": {
      "text/html": [
       "<div>\n",
       "<style scoped>\n",
       "    .dataframe tbody tr th:only-of-type {\n",
       "        vertical-align: middle;\n",
       "    }\n",
       "\n",
       "    .dataframe tbody tr th {\n",
       "        vertical-align: top;\n",
       "    }\n",
       "\n",
       "    .dataframe thead th {\n",
       "        text-align: right;\n",
       "    }\n",
       "</style>\n",
       "<table border=\"1\" class=\"dataframe\">\n",
       "  <thead>\n",
       "    <tr style=\"text-align: right;\">\n",
       "      <th></th>\n",
       "      <th>Temp</th>\n",
       "      <th>P</th>\n",
       "      <th>RH</th>\n",
       "      <th>specific_humidity</th>\n",
       "    </tr>\n",
       "    <tr>\n",
       "      <th>time</th>\n",
       "      <th></th>\n",
       "      <th></th>\n",
       "      <th></th>\n",
       "      <th></th>\n",
       "    </tr>\n",
       "  </thead>\n",
       "  <tbody>\n",
       "    <tr>\n",
       "      <th>2009-07-27 22:00:00</th>\n",
       "      <td>-825.003333</td>\n",
       "      <td>619.108333</td>\n",
       "      <td>18.727273</td>\n",
       "      <td>1.162471e+11</td>\n",
       "    </tr>\n",
       "    <tr>\n",
       "      <th>2009-09-22 01:00:00</th>\n",
       "      <td>-1659.008333</td>\n",
       "      <td>616.508333</td>\n",
       "      <td>34.800000</td>\n",
       "      <td>3.692732e+10</td>\n",
       "    </tr>\n",
       "  </tbody>\n",
       "</table>\n",
       "</div>"
      ],
      "text/plain": [
       "                            Temp           P         RH  specific_humidity\n",
       "time                                                                      \n",
       "2009-07-27 22:00:00  -825.003333  619.108333  18.727273       1.162471e+11\n",
       "2009-09-22 01:00:00 -1659.008333  616.508333  34.800000       3.692732e+10"
      ]
     },
     "execution_count": 127,
     "metadata": {},
     "output_type": "execute_result"
    }
   ],
   "source": [
    "mask_extreme = (df_merged_nonan['specific_humidity'] > 0.1)\n",
    "df_merged_nonan[mask_extreme]"
   ]
  },
  {
   "cell_type": "code",
   "execution_count": 123,
   "metadata": {},
   "outputs": [],
   "source": [
    "df_merged_nonan_masked.to_csv('Specific_humidity_CFHT_masked_2000to2019.csv')"
   ]
  },
  {
   "cell_type": "code",
   "execution_count": null,
   "metadata": {},
   "outputs": [],
   "source": []
  },
  {
   "cell_type": "code",
   "execution_count": null,
   "metadata": {},
   "outputs": [],
   "source": []
  },
  {
   "cell_type": "code",
   "execution_count": 109,
   "metadata": {
    "scrolled": true
   },
   "outputs": [
    {
     "data": {
      "text/plain": [
       "0.0015135721390234379"
      ]
     },
     "execution_count": 109,
     "metadata": {},
     "output_type": "execute_result"
    }
   ],
   "source": [
    "Specific_humidity(-0.481667, 612.330000, 25.248333)"
   ]
  },
  {
   "cell_type": "code",
   "execution_count": 110,
   "metadata": {},
   "outputs": [
    {
     "name": "stderr",
     "output_type": "stream",
     "text": [
      "/home/caroline/anaconda3/lib/python3.7/site-packages/ipykernel_launcher.py:1: SettingWithCopyWarning: \n",
      "A value is trying to be set on a copy of a slice from a DataFrame.\n",
      "Try using .loc[row_indexer,col_indexer] = value instead\n",
      "\n",
      "See the caveats in the documentation: https://pandas.pydata.org/pandas-docs/stable/user_guide/indexing.html#returning-a-view-versus-a-copy\n",
      "  \"\"\"Entry point for launching an IPython kernel.\n"
     ]
    }
   ],
   "source": [
    "df_test['specific_humidity_3'] = np.vectorize(Specific_humidity)(df_test.Temp, df_test.P, df_test.RH)"
   ]
  },
  {
   "cell_type": "code",
   "execution_count": 111,
   "metadata": {},
   "outputs": [
    {
     "data": {
      "text/html": [
       "<div>\n",
       "<style scoped>\n",
       "    .dataframe tbody tr th:only-of-type {\n",
       "        vertical-align: middle;\n",
       "    }\n",
       "\n",
       "    .dataframe tbody tr th {\n",
       "        vertical-align: top;\n",
       "    }\n",
       "\n",
       "    .dataframe thead th {\n",
       "        text-align: right;\n",
       "    }\n",
       "</style>\n",
       "<table border=\"1\" class=\"dataframe\">\n",
       "  <thead>\n",
       "    <tr style=\"text-align: right;\">\n",
       "      <th></th>\n",
       "      <th>Temp</th>\n",
       "      <th>P</th>\n",
       "      <th>RH</th>\n",
       "      <th>specific_humidity</th>\n",
       "      <th>specific_humidity_2</th>\n",
       "      <th>specific_humidity_3</th>\n",
       "    </tr>\n",
       "    <tr>\n",
       "      <th>time</th>\n",
       "      <th></th>\n",
       "      <th></th>\n",
       "      <th></th>\n",
       "      <th></th>\n",
       "      <th></th>\n",
       "      <th></th>\n",
       "    </tr>\n",
       "  </thead>\n",
       "  <tbody>\n",
       "    <tr>\n",
       "      <th>2000-01-01 10:00:00</th>\n",
       "      <td>-0.736667</td>\n",
       "      <td>612.560000</td>\n",
       "      <td>27.386667</td>\n",
       "      <td>0.001611</td>\n",
       "      <td>0.001611</td>\n",
       "      <td>0.001611</td>\n",
       "    </tr>\n",
       "    <tr>\n",
       "      <th>2000-01-01 11:00:00</th>\n",
       "      <td>-0.481667</td>\n",
       "      <td>612.330000</td>\n",
       "      <td>25.248333</td>\n",
       "      <td>0.001611</td>\n",
       "      <td>0.001514</td>\n",
       "      <td>0.001514</td>\n",
       "    </tr>\n",
       "    <tr>\n",
       "      <th>2000-01-01 12:00:00</th>\n",
       "      <td>-0.451667</td>\n",
       "      <td>611.941667</td>\n",
       "      <td>25.190000</td>\n",
       "      <td>0.001611</td>\n",
       "      <td>0.001514</td>\n",
       "      <td>0.001514</td>\n",
       "    </tr>\n",
       "    <tr>\n",
       "      <th>2000-01-01 13:00:00</th>\n",
       "      <td>-0.358333</td>\n",
       "      <td>611.471667</td>\n",
       "      <td>25.373333</td>\n",
       "      <td>0.001611</td>\n",
       "      <td>0.001537</td>\n",
       "      <td>0.001537</td>\n",
       "    </tr>\n",
       "    <tr>\n",
       "      <th>2000-01-01 14:00:00</th>\n",
       "      <td>-0.110000</td>\n",
       "      <td>611.638333</td>\n",
       "      <td>23.635000</td>\n",
       "      <td>0.001611</td>\n",
       "      <td>0.001457</td>\n",
       "      <td>0.001457</td>\n",
       "    </tr>\n",
       "  </tbody>\n",
       "</table>\n",
       "</div>"
      ],
      "text/plain": [
       "                         Temp           P         RH  specific_humidity  \\\n",
       "time                                                                      \n",
       "2000-01-01 10:00:00 -0.736667  612.560000  27.386667           0.001611   \n",
       "2000-01-01 11:00:00 -0.481667  612.330000  25.248333           0.001611   \n",
       "2000-01-01 12:00:00 -0.451667  611.941667  25.190000           0.001611   \n",
       "2000-01-01 13:00:00 -0.358333  611.471667  25.373333           0.001611   \n",
       "2000-01-01 14:00:00 -0.110000  611.638333  23.635000           0.001611   \n",
       "\n",
       "                     specific_humidity_2  specific_humidity_3  \n",
       "time                                                           \n",
       "2000-01-01 10:00:00             0.001611             0.001611  \n",
       "2000-01-01 11:00:00             0.001514             0.001514  \n",
       "2000-01-01 12:00:00             0.001514             0.001514  \n",
       "2000-01-01 13:00:00             0.001537             0.001537  \n",
       "2000-01-01 14:00:00             0.001457             0.001457  "
      ]
     },
     "execution_count": 111,
     "metadata": {},
     "output_type": "execute_result"
    }
   ],
   "source": [
    "df_test"
   ]
  },
  {
   "cell_type": "code",
   "execution_count": null,
   "metadata": {},
   "outputs": [],
   "source": []
  }
 ],
 "metadata": {
  "kernelspec": {
   "display_name": "Python 3",
   "language": "python",
   "name": "python3"
  },
  "language_info": {
   "codemirror_mode": {
    "name": "ipython",
    "version": 3
   },
   "file_extension": ".py",
   "mimetype": "text/x-python",
   "name": "python",
   "nbconvert_exporter": "python",
   "pygments_lexer": "ipython3",
   "version": "3.7.3"
  }
 },
 "nbformat": 4,
 "nbformat_minor": 4
}
